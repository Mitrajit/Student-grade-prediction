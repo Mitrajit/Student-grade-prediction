{
 "metadata": {
  "language_info": {
   "codemirror_mode": {
    "name": "ipython",
    "version": 3
   },
   "file_extension": ".py",
   "mimetype": "text/x-python",
   "name": "python",
   "nbconvert_exporter": "python",
   "pygments_lexer": "ipython3",
   "version": "3.8.5-final"
  },
  "orig_nbformat": 2,
  "kernelspec": {
   "name": "python3",
   "display_name": "Python 3.8.5 64-bit ('tensor': conda)",
   "metadata": {
    "interpreter": {
     "hash": "77bb87246674fbad1adecc6c2590cb2be55e1bfea5e5b17d8e43037cc3456ec0"
    }
   }
  }
 },
 "nbformat": 4,
 "nbformat_minor": 2,
 "cells": [
  {
   "source": [
    "<h1>Predicting final grade</h1>\n",
    "This code uses <b><i>Linear regression algorithm</i></b> to create a model using the student performance data set from UCI \"https://archive.ics.uci.edu/ml/datasets/Student+Performance\", and predict their final grade accordingly.<br> \n",
    "Created by Mitrajit"
   ],
   "cell_type": "markdown",
   "metadata": {}
  },
  {
   "source": [
    "import pandas as pd\n",
    "import numpy as np\n",
    "import sklearn\n",
    "from sklearn import linear_model\n",
    "import matplotlib.pyplot as pyplot\n",
    "from matplotlib import style\n",
    "import pickle"
   ],
   "cell_type": "code",
   "metadata": {},
   "execution_count": null,
   "outputs": []
  },
  {
   "source": [
    "<h2>Spliting the data</h2>"
   ],
   "cell_type": "markdown",
   "metadata": {}
  },
  {
   "cell_type": "code",
   "execution_count": null,
   "metadata": {},
   "outputs": [],
   "source": [
    "data=pd.read_csv(\"student-mat.csv\", sep=\";\")\n",
    "data = data[[\"G1\",\"G2\",\"G3\",\"studytime\",\"failures\",\"absences\"]]\n",
    "print(data)\n",
    "predict=\"G3\"\n",
    "X=np.array(data.drop([predict],1))\n",
    "Y=np.array(data[predict])\n",
    "print(X,\"\\n\\nG3\\n\",Y)\n",
    "x_train, x_test, y_train, y_test = sklearn.model_selection.train_test_split(X,Y,test_size=0.1)"
   ]
  },
  {
   "source": [
    "<h2>Training the model</h2>"
   ],
   "cell_type": "markdown",
   "metadata": {}
  },
  {
   "cell_type": "code",
   "execution_count": null,
   "metadata": {},
   "outputs": [],
   "source": [
    "linear = linear_model.LinearRegression()\n",
    "best=0\n",
    "for _ in range(30):\n",
    "    x_train, x_test, y_train, y_test = sklearn.model_selection.train_test_split(X,Y,test_size=0.1)\n",
    "    linear.fit(x_train, y_train)\n",
    "    acc = linear.score(x_test,y_test)\n",
    "    if best<acc:\n",
    "        best=acc\n",
    "        with open(\"studentmodel.pickle\",\"wb\") as f:\n",
    "            pickle.dump(linear,f)\n",
    "pickle_in=open(\"studentmodel.pickle\",\"rb\")\n",
    "linear = pickle.load(pickle_in)\n",
    "print(\"Best accuracy:\",best)\n",
    "print(\"Coff: \",linear.coef_)\n",
    "print(\"Intersept: \",linear.intercept_)"
   ]
  },
  {
   "source": [
    "<h2>Predict the final grade</h2>"
   ],
   "cell_type": "markdown",
   "metadata": {}
  },
  {
   "cell_type": "code",
   "execution_count": null,
   "metadata": {},
   "outputs": [],
   "source": [
    "pickle_in=open(\"studentmodel.pickle\",\"rb\")\n",
    "linear = pickle.load(pickle_in)\n",
    "prediction = linear.predict(x_test)\n",
    "print(\"Accuracy:\",linear.score(x_test,y_test))\n",
    "for x in range(len(prediction)):\n",
    "    print(\"Predicted G3:\",prediction[x],\"Actual G3:\",y_test[x])"
   ]
  },
  {
   "source": [
    "<h2>Plotting the data using pyplot</h2>"
   ],
   "cell_type": "markdown",
   "metadata": {}
  },
  {
   "cell_type": "code",
   "execution_count": null,
   "metadata": {},
   "outputs": [],
   "source": [
    "style.use(\"ggplot\")\n",
    "pyplot.scatter([x_test[i][0] for i in range(len(x_test))],y_test)\n",
    "pyplot.scatter([x_test[i][0] for i in range(len(x_test))],prediction)\n",
    "pyplot.xlabel(\"G1\")\n",
    "pyplot.ylabel(\"Final grade\")\n",
    "pyplot.show()"
   ]
  },
  {
   "cell_type": "code",
   "execution_count": null,
   "metadata": {},
   "outputs": [],
   "source": []
  }
 ]
}